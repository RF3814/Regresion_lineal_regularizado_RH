{
    "cells": [
        {
            "cell_type": "markdown",
            "metadata": {},
            "source": [
                "# Explore here"
            ]
        },
        {
            "cell_type": "code",
            "execution_count": 1,
            "metadata": {},
            "outputs": [
                {
                    "data": {
                        "text/html": [
                            "<div>\n",
                            "<style scoped>\n",
                            "    .dataframe tbody tr th:only-of-type {\n",
                            "        vertical-align: middle;\n",
                            "    }\n",
                            "\n",
                            "    .dataframe tbody tr th {\n",
                            "        vertical-align: top;\n",
                            "    }\n",
                            "\n",
                            "    .dataframe thead th {\n",
                            "        text-align: right;\n",
                            "    }\n",
                            "</style>\n",
                            "<table border=\"1\" class=\"dataframe\">\n",
                            "  <thead>\n",
                            "    <tr style=\"text-align: right;\">\n",
                            "      <th></th>\n",
                            "      <th>fips</th>\n",
                            "      <th>TOT_POP</th>\n",
                            "      <th>0-9</th>\n",
                            "      <th>0-9 y/o % of total pop</th>\n",
                            "      <th>19-Oct</th>\n",
                            "      <th>10-19 y/o % of total pop</th>\n",
                            "      <th>20-29</th>\n",
                            "      <th>20-29 y/o % of total pop</th>\n",
                            "      <th>30-39</th>\n",
                            "      <th>30-39 y/o % of total pop</th>\n",
                            "      <th>...</th>\n",
                            "      <th>COPD_number</th>\n",
                            "      <th>diabetes_prevalence</th>\n",
                            "      <th>diabetes_Lower 95% CI</th>\n",
                            "      <th>diabetes_Upper 95% CI</th>\n",
                            "      <th>diabetes_number</th>\n",
                            "      <th>CKD_prevalence</th>\n",
                            "      <th>CKD_Lower 95% CI</th>\n",
                            "      <th>CKD_Upper 95% CI</th>\n",
                            "      <th>CKD_number</th>\n",
                            "      <th>Urban_rural_code</th>\n",
                            "    </tr>\n",
                            "  </thead>\n",
                            "  <tbody>\n",
                            "    <tr>\n",
                            "      <th>0</th>\n",
                            "      <td>1001</td>\n",
                            "      <td>55601</td>\n",
                            "      <td>6787</td>\n",
                            "      <td>12.206615</td>\n",
                            "      <td>7637</td>\n",
                            "      <td>13.735364</td>\n",
                            "      <td>6878</td>\n",
                            "      <td>12.370281</td>\n",
                            "      <td>7089</td>\n",
                            "      <td>12.749771</td>\n",
                            "      <td>...</td>\n",
                            "      <td>3644</td>\n",
                            "      <td>12.9</td>\n",
                            "      <td>11.9</td>\n",
                            "      <td>13.8</td>\n",
                            "      <td>5462</td>\n",
                            "      <td>3.1</td>\n",
                            "      <td>2.9</td>\n",
                            "      <td>3.3</td>\n",
                            "      <td>1326</td>\n",
                            "      <td>3</td>\n",
                            "    </tr>\n",
                            "    <tr>\n",
                            "      <th>1</th>\n",
                            "      <td>1003</td>\n",
                            "      <td>218022</td>\n",
                            "      <td>24757</td>\n",
                            "      <td>11.355276</td>\n",
                            "      <td>26913</td>\n",
                            "      <td>12.344167</td>\n",
                            "      <td>23579</td>\n",
                            "      <td>10.814964</td>\n",
                            "      <td>25213</td>\n",
                            "      <td>11.564429</td>\n",
                            "      <td>...</td>\n",
                            "      <td>14692</td>\n",
                            "      <td>12.0</td>\n",
                            "      <td>11.0</td>\n",
                            "      <td>13.1</td>\n",
                            "      <td>20520</td>\n",
                            "      <td>3.2</td>\n",
                            "      <td>3.0</td>\n",
                            "      <td>3.5</td>\n",
                            "      <td>5479</td>\n",
                            "      <td>4</td>\n",
                            "    </tr>\n",
                            "    <tr>\n",
                            "      <th>2</th>\n",
                            "      <td>1005</td>\n",
                            "      <td>24881</td>\n",
                            "      <td>2732</td>\n",
                            "      <td>10.980266</td>\n",
                            "      <td>2960</td>\n",
                            "      <td>11.896628</td>\n",
                            "      <td>3268</td>\n",
                            "      <td>13.134520</td>\n",
                            "      <td>3201</td>\n",
                            "      <td>12.865239</td>\n",
                            "      <td>...</td>\n",
                            "      <td>2373</td>\n",
                            "      <td>19.7</td>\n",
                            "      <td>18.6</td>\n",
                            "      <td>20.6</td>\n",
                            "      <td>3870</td>\n",
                            "      <td>4.5</td>\n",
                            "      <td>4.2</td>\n",
                            "      <td>4.8</td>\n",
                            "      <td>887</td>\n",
                            "      <td>6</td>\n",
                            "    </tr>\n",
                            "    <tr>\n",
                            "      <th>3</th>\n",
                            "      <td>1007</td>\n",
                            "      <td>22400</td>\n",
                            "      <td>2456</td>\n",
                            "      <td>10.964286</td>\n",
                            "      <td>2596</td>\n",
                            "      <td>11.589286</td>\n",
                            "      <td>3029</td>\n",
                            "      <td>13.522321</td>\n",
                            "      <td>3113</td>\n",
                            "      <td>13.897321</td>\n",
                            "      <td>...</td>\n",
                            "      <td>1789</td>\n",
                            "      <td>14.1</td>\n",
                            "      <td>13.2</td>\n",
                            "      <td>14.9</td>\n",
                            "      <td>2511</td>\n",
                            "      <td>3.3</td>\n",
                            "      <td>3.1</td>\n",
                            "      <td>3.6</td>\n",
                            "      <td>595</td>\n",
                            "      <td>2</td>\n",
                            "    </tr>\n",
                            "    <tr>\n",
                            "      <th>4</th>\n",
                            "      <td>1009</td>\n",
                            "      <td>57840</td>\n",
                            "      <td>7095</td>\n",
                            "      <td>12.266598</td>\n",
                            "      <td>7570</td>\n",
                            "      <td>13.087828</td>\n",
                            "      <td>6742</td>\n",
                            "      <td>11.656293</td>\n",
                            "      <td>6884</td>\n",
                            "      <td>11.901798</td>\n",
                            "      <td>...</td>\n",
                            "      <td>4661</td>\n",
                            "      <td>13.5</td>\n",
                            "      <td>12.6</td>\n",
                            "      <td>14.5</td>\n",
                            "      <td>6017</td>\n",
                            "      <td>3.4</td>\n",
                            "      <td>3.2</td>\n",
                            "      <td>3.7</td>\n",
                            "      <td>1507</td>\n",
                            "      <td>2</td>\n",
                            "    </tr>\n",
                            "    <tr>\n",
                            "      <th>...</th>\n",
                            "      <td>...</td>\n",
                            "      <td>...</td>\n",
                            "      <td>...</td>\n",
                            "      <td>...</td>\n",
                            "      <td>...</td>\n",
                            "      <td>...</td>\n",
                            "      <td>...</td>\n",
                            "      <td>...</td>\n",
                            "      <td>...</td>\n",
                            "      <td>...</td>\n",
                            "      <td>...</td>\n",
                            "      <td>...</td>\n",
                            "      <td>...</td>\n",
                            "      <td>...</td>\n",
                            "      <td>...</td>\n",
                            "      <td>...</td>\n",
                            "      <td>...</td>\n",
                            "      <td>...</td>\n",
                            "      <td>...</td>\n",
                            "      <td>...</td>\n",
                            "      <td>...</td>\n",
                            "    </tr>\n",
                            "    <tr>\n",
                            "      <th>3135</th>\n",
                            "      <td>56037</td>\n",
                            "      <td>43051</td>\n",
                            "      <td>6104</td>\n",
                            "      <td>14.178532</td>\n",
                            "      <td>6326</td>\n",
                            "      <td>14.694200</td>\n",
                            "      <td>5359</td>\n",
                            "      <td>12.448027</td>\n",
                            "      <td>6577</td>\n",
                            "      <td>15.277229</td>\n",
                            "      <td>...</td>\n",
                            "      <td>2098</td>\n",
                            "      <td>8.9</td>\n",
                            "      <td>8.3</td>\n",
                            "      <td>9.6</td>\n",
                            "      <td>2834</td>\n",
                            "      <td>2.6</td>\n",
                            "      <td>2.4</td>\n",
                            "      <td>2.8</td>\n",
                            "      <td>821</td>\n",
                            "      <td>5</td>\n",
                            "    </tr>\n",
                            "    <tr>\n",
                            "      <th>3136</th>\n",
                            "      <td>56039</td>\n",
                            "      <td>23081</td>\n",
                            "      <td>2384</td>\n",
                            "      <td>10.328842</td>\n",
                            "      <td>2185</td>\n",
                            "      <td>9.466661</td>\n",
                            "      <td>2967</td>\n",
                            "      <td>12.854729</td>\n",
                            "      <td>4093</td>\n",
                            "      <td>17.733200</td>\n",
                            "      <td>...</td>\n",
                            "      <td>928</td>\n",
                            "      <td>7.2</td>\n",
                            "      <td>6.5</td>\n",
                            "      <td>8.0</td>\n",
                            "      <td>1360</td>\n",
                            "      <td>2.4</td>\n",
                            "      <td>2.2</td>\n",
                            "      <td>2.6</td>\n",
                            "      <td>447</td>\n",
                            "      <td>5</td>\n",
                            "    </tr>\n",
                            "    <tr>\n",
                            "      <th>3137</th>\n",
                            "      <td>56041</td>\n",
                            "      <td>20299</td>\n",
                            "      <td>3121</td>\n",
                            "      <td>15.375142</td>\n",
                            "      <td>3205</td>\n",
                            "      <td>15.788955</td>\n",
                            "      <td>2153</td>\n",
                            "      <td>10.606434</td>\n",
                            "      <td>2702</td>\n",
                            "      <td>13.311001</td>\n",
                            "      <td>...</td>\n",
                            "      <td>1163</td>\n",
                            "      <td>10.4</td>\n",
                            "      <td>9.5</td>\n",
                            "      <td>11.2</td>\n",
                            "      <td>1500</td>\n",
                            "      <td>3.0</td>\n",
                            "      <td>2.8</td>\n",
                            "      <td>3.2</td>\n",
                            "      <td>430</td>\n",
                            "      <td>5</td>\n",
                            "    </tr>\n",
                            "    <tr>\n",
                            "      <th>3138</th>\n",
                            "      <td>56043</td>\n",
                            "      <td>7885</td>\n",
                            "      <td>858</td>\n",
                            "      <td>10.881420</td>\n",
                            "      <td>1113</td>\n",
                            "      <td>14.115409</td>\n",
                            "      <td>715</td>\n",
                            "      <td>9.067850</td>\n",
                            "      <td>903</td>\n",
                            "      <td>11.452124</td>\n",
                            "      <td>...</td>\n",
                            "      <td>506</td>\n",
                            "      <td>11.3</td>\n",
                            "      <td>10.3</td>\n",
                            "      <td>12.1</td>\n",
                            "      <td>686</td>\n",
                            "      <td>3.4</td>\n",
                            "      <td>3.2</td>\n",
                            "      <td>3.7</td>\n",
                            "      <td>207</td>\n",
                            "      <td>6</td>\n",
                            "    </tr>\n",
                            "    <tr>\n",
                            "      <th>3139</th>\n",
                            "      <td>56045</td>\n",
                            "      <td>6967</td>\n",
                            "      <td>780</td>\n",
                            "      <td>11.195637</td>\n",
                            "      <td>779</td>\n",
                            "      <td>11.181283</td>\n",
                            "      <td>681</td>\n",
                            "      <td>9.774652</td>\n",
                            "      <td>906</td>\n",
                            "      <td>13.004162</td>\n",
                            "      <td>...</td>\n",
                            "      <td>480</td>\n",
                            "      <td>11.7</td>\n",
                            "      <td>10.7</td>\n",
                            "      <td>12.7</td>\n",
                            "      <td>644</td>\n",
                            "      <td>3.4</td>\n",
                            "      <td>3.1</td>\n",
                            "      <td>3.6</td>\n",
                            "      <td>185</td>\n",
                            "      <td>6</td>\n",
                            "    </tr>\n",
                            "  </tbody>\n",
                            "</table>\n",
                            "<p>3140 rows × 108 columns</p>\n",
                            "</div>"
                        ],
                        "text/plain": [
                            "       fips  TOT_POP    0-9  0-9 y/o % of total pop  19-Oct  \\\n",
                            "0      1001    55601   6787               12.206615    7637   \n",
                            "1      1003   218022  24757               11.355276   26913   \n",
                            "2      1005    24881   2732               10.980266    2960   \n",
                            "3      1007    22400   2456               10.964286    2596   \n",
                            "4      1009    57840   7095               12.266598    7570   \n",
                            "...     ...      ...    ...                     ...     ...   \n",
                            "3135  56037    43051   6104               14.178532    6326   \n",
                            "3136  56039    23081   2384               10.328842    2185   \n",
                            "3137  56041    20299   3121               15.375142    3205   \n",
                            "3138  56043     7885    858               10.881420    1113   \n",
                            "3139  56045     6967    780               11.195637     779   \n",
                            "\n",
                            "      10-19 y/o % of total pop  20-29  20-29 y/o % of total pop  30-39  \\\n",
                            "0                    13.735364   6878                 12.370281   7089   \n",
                            "1                    12.344167  23579                 10.814964  25213   \n",
                            "2                    11.896628   3268                 13.134520   3201   \n",
                            "3                    11.589286   3029                 13.522321   3113   \n",
                            "4                    13.087828   6742                 11.656293   6884   \n",
                            "...                        ...    ...                       ...    ...   \n",
                            "3135                 14.694200   5359                 12.448027   6577   \n",
                            "3136                  9.466661   2967                 12.854729   4093   \n",
                            "3137                 15.788955   2153                 10.606434   2702   \n",
                            "3138                 14.115409    715                  9.067850    903   \n",
                            "3139                 11.181283    681                  9.774652    906   \n",
                            "\n",
                            "      30-39 y/o % of total pop  ...  COPD_number  diabetes_prevalence  \\\n",
                            "0                    12.749771  ...         3644                 12.9   \n",
                            "1                    11.564429  ...        14692                 12.0   \n",
                            "2                    12.865239  ...         2373                 19.7   \n",
                            "3                    13.897321  ...         1789                 14.1   \n",
                            "4                    11.901798  ...         4661                 13.5   \n",
                            "...                        ...  ...          ...                  ...   \n",
                            "3135                 15.277229  ...         2098                  8.9   \n",
                            "3136                 17.733200  ...          928                  7.2   \n",
                            "3137                 13.311001  ...         1163                 10.4   \n",
                            "3138                 11.452124  ...          506                 11.3   \n",
                            "3139                 13.004162  ...          480                 11.7   \n",
                            "\n",
                            "      diabetes_Lower 95% CI  diabetes_Upper 95% CI  diabetes_number  \\\n",
                            "0                      11.9                   13.8             5462   \n",
                            "1                      11.0                   13.1            20520   \n",
                            "2                      18.6                   20.6             3870   \n",
                            "3                      13.2                   14.9             2511   \n",
                            "4                      12.6                   14.5             6017   \n",
                            "...                     ...                    ...              ...   \n",
                            "3135                    8.3                    9.6             2834   \n",
                            "3136                    6.5                    8.0             1360   \n",
                            "3137                    9.5                   11.2             1500   \n",
                            "3138                   10.3                   12.1              686   \n",
                            "3139                   10.7                   12.7              644   \n",
                            "\n",
                            "      CKD_prevalence  CKD_Lower 95% CI  CKD_Upper 95% CI  CKD_number  \\\n",
                            "0                3.1               2.9               3.3        1326   \n",
                            "1                3.2               3.0               3.5        5479   \n",
                            "2                4.5               4.2               4.8         887   \n",
                            "3                3.3               3.1               3.6         595   \n",
                            "4                3.4               3.2               3.7        1507   \n",
                            "...              ...               ...               ...         ...   \n",
                            "3135             2.6               2.4               2.8         821   \n",
                            "3136             2.4               2.2               2.6         447   \n",
                            "3137             3.0               2.8               3.2         430   \n",
                            "3138             3.4               3.2               3.7         207   \n",
                            "3139             3.4               3.1               3.6         185   \n",
                            "\n",
                            "      Urban_rural_code  \n",
                            "0                    3  \n",
                            "1                    4  \n",
                            "2                    6  \n",
                            "3                    2  \n",
                            "4                    2  \n",
                            "...                ...  \n",
                            "3135                 5  \n",
                            "3136                 5  \n",
                            "3137                 5  \n",
                            "3138                 6  \n",
                            "3139                 6  \n",
                            "\n",
                            "[3140 rows x 108 columns]"
                        ]
                    },
                    "execution_count": 1,
                    "metadata": {},
                    "output_type": "execute_result"
                }
            ],
            "source": [
                "# Your code here\n",
                "import pandas as pd \n",
                "import numpy as np\n",
                "df=pd.read_csv(\"https://raw.githubusercontent.com/4GeeksAcademy/regularized-linear-regression-project-tutorial/main/demographic_health_data.csv\")\n",
                "df"
            ]
        },
        {
            "cell_type": "code",
            "execution_count": 2,
            "metadata": {},
            "outputs": [
                {
                    "name": "stdout",
                    "output_type": "stream",
                    "text": [
                        "<class 'pandas.core.frame.DataFrame'>\n",
                        "RangeIndex: 3140 entries, 0 to 3139\n",
                        "Columns: 108 entries, fips to Urban_rural_code\n",
                        "dtypes: float64(61), int64(45), object(2)\n",
                        "memory usage: 2.6+ MB\n"
                    ]
                }
            ],
            "source": [
                "df.info()"
            ]
        },
        {
            "cell_type": "code",
            "execution_count": 3,
            "metadata": {},
            "outputs": [
                {
                    "data": {
                        "text/plain": [
                            "dtype('int64')"
                        ]
                    },
                    "execution_count": 3,
                    "metadata": {},
                    "output_type": "execute_result"
                }
            ],
            "source": [
                "df[\"fips\"].dtypes"
            ]
        },
        {
            "cell_type": "code",
            "execution_count": 4,
            "metadata": {},
            "outputs": [],
            "source": [
                "for columna in df.columns:\n",
                "    if df[columna].dtype ==\"object\":\n",
                "        df[columna]=pd.factorize(df[columna])[0]\n",
                "    else:\n",
                "        continue\n"
            ]
        },
        {
            "cell_type": "code",
            "execution_count": 5,
            "metadata": {},
            "outputs": [
                {
                    "name": "stdout",
                    "output_type": "stream",
                    "text": [
                        "<class 'pandas.core.frame.DataFrame'>\n",
                        "RangeIndex: 3140 entries, 0 to 3139\n",
                        "Columns: 108 entries, fips to Urban_rural_code\n",
                        "dtypes: float64(61), int64(47)\n",
                        "memory usage: 2.6 MB\n"
                    ]
                }
            ],
            "source": [
                "df.info()"
            ]
        },
        {
            "cell_type": "code",
            "execution_count": 6,
            "metadata": {},
            "outputs": [],
            "source": [
                "#en este caso no sacaremos las columnas innecesarias\n",
                "#disease_prevalence\n",
                "\n",
                "\n",
                "X=df.drop(columns=\"Heart disease_prevalence\")\n",
                "y=df[\"Heart disease_prevalence\"]"
            ]
        },
        {
            "cell_type": "code",
            "execution_count": 7,
            "metadata": {},
            "outputs": [],
            "source": [
                "from sklearn.model_selection import train_test_split\n",
                "X_train,X_test,y_train,y_test=train_test_split(X,y,random_state=42,test_size=0.2)\n"
            ]
        },
        {
            "cell_type": "code",
            "execution_count": 8,
            "metadata": {},
            "outputs": [],
            "source": [
                "from sklearn.preprocessing import StandardScaler\n",
                "escalador=StandardScaler()\n",
                "X_train_esc=escalador.fit_transform(X_train)# se va a escalar y dar a conocer solo los datos de train, los datos de test solo se transformaran.\n",
                "X_test_esc=escalador.transform(X_test)\n",
                "\n",
                "#pasamos a dataframe los escalados \n",
                "X_test_esc=pd.DataFrame(X_test_esc,columns=X_test.columns,index=X_test.index)\n",
                "X_train_esc=pd.DataFrame(X_train_esc,columns=X_train.columns,index=X_train.index)\n",
                "\n",
                "\n"
            ]
        },
        {
            "cell_type": "code",
            "execution_count": 9,
            "metadata": {},
            "outputs": [
                {
                    "name": "stdout",
                    "output_type": "stream",
                    "text": [
                        "intercepto: 8.586106685610375\n",
                        "coeficientes: [ 2.03700758e-01 -5.78406313e-01  1.04140123e-01 -9.99415185e+04\n",
                        "  2.08383423e-01 -8.45789910e+04  5.40995287e-01 -1.46848560e+05\n",
                        "  3.64108013e-01 -8.11963198e+04  4.00415301e-01 -6.32118103e+04\n",
                        "  3.47373577e-01 -7.01136557e+04  3.88626747e-01 -1.17752288e+05\n",
                        "  2.05349933e-01 -1.02620728e+05  1.72211396e-01 -7.20324804e+04\n",
                        " -1.02332122e+00  4.65804898e+06 -2.45367486e-01  4.12332948e+06\n",
                        " -2.45461010e-02  2.19710910e+06 -1.88416033e-01  8.16493332e+05\n",
                        " -1.23271822e-02  3.02030260e+05 -4.06120247e-02  4.29983770e+05\n",
                        "  1.27360686e+00 -8.43067002e-03 -2.77323008e-04 -1.43766600e-02\n",
                        "  1.38653863e-02  2.27141166e-02 -1.90794216e-02 -1.10125796e-01\n",
                        "  1.09324834e-01  2.48512882e-02  7.61994861e-02  4.97471806e-02\n",
                        "  7.87623851e-02 -1.44357073e-01 -1.71150760e-01 -1.23780644e-01\n",
                        " -2.24790779e-01  3.55767005e-03  7.04138086e-03 -2.08474827e-02\n",
                        "  1.81247104e-02  7.92638929e-01 -4.69112446e-01 -5.05354799e-01\n",
                        " -9.13079720e-02  7.37447363e-02  9.06622909e-03 -3.37223290e-04\n",
                        "  1.73906334e-01  3.39169306e-03 -8.02348275e-03  3.27532040e-03\n",
                        " -2.05301386e-02  2.13461359e-02  1.93824929e-02 -1.77200313e-02\n",
                        "  1.80137443e-03  3.30528710e-04 -1.08457473e-03  8.38495977e-03\n",
                        " -5.08323844e-03 -1.79405875e-02  8.77910294e-04 -4.09747609e-01\n",
                        " -1.66319664e-01 -5.58324624e-04  1.22000743e-03 -5.98203705e-02\n",
                        " -1.43857371e-01 -7.88267178e-04 -1.56889111e+00  1.73111330e-01\n",
                        " -6.64169108e-02 -1.04783191e-01 -2.36904294e-02  8.11376399e-03\n",
                        " -4.99285434e-02  4.36498811e-02  1.94135916e-02  7.97784214e-01\n",
                        "  9.34532848e-01 -6.58949334e-02  2.18227274e-01 -1.02010120e-01\n",
                        " -1.10518059e-01  2.03233906e-02  4.76723739e-01 -2.01274626e-01\n",
                        " -2.78138975e-01  5.21206553e-03  5.76486276e-03  1.99976328e-02\n",
                        " -2.09453641e-02  8.20122125e-03  4.52882494e-04]\n"
                    ]
                }
            ],
            "source": [
                "#para poder comparar correctamente los modelos lasso y ridge, obtendremos los resultados de una regresion lineal normal \n",
                "from sklearn.linear_model import LinearRegression,Lasso,Ridge\n",
                "regresion_lineal_model=LinearRegression()\n",
                "regresion_lineal_model.fit(X_train_esc,y_train)\n",
                "print(f'intercepto: {regresion_lineal_model.intercept_}')\n",
                "print(f'coeficientes: {regresion_lineal_model.coef_}')\n",
                "\n"
            ]
        },
        {
            "cell_type": "markdown",
            "metadata": {},
            "source": [
                "se puede ver la cantidad de coeficientes de la regresion lineal"
            ]
        },
        {
            "cell_type": "code",
            "execution_count": 10,
            "metadata": {},
            "outputs": [
                {
                    "name": "stdout",
                    "output_type": "stream",
                    "text": [
                        "RMSE: 0.04032399750495232\n",
                        "R2: 0.9994959957967646\n"
                    ]
                }
            ],
            "source": [
                "from sklearn.metrics import root_mean_squared_error,r2_score\n",
                "#vamos a calcular la prediccion y conocer que tan bueno es el modelo\n",
                "y_pred=regresion_lineal_model.predict(X_test_esc)\n",
                "print(f'RMSE: {root_mean_squared_error(y_test,y_pred)}')\n",
                "print(f'R2: {r2_score(y_test,y_pred)}')"
            ]
        },
        {
            "cell_type": "markdown",
            "metadata": {},
            "source": [
                "Lo anterior representa que hay una baja diferencia entre los valores predichos y los de test\n",
                "ademas, R2 dice que el modelo abarca el 99,945% de los datos\n"
            ]
        },
        {
            "cell_type": "code",
            "execution_count": 11,
            "metadata": {},
            "outputs": [
                {
                    "name": "stdout",
                    "output_type": "stream",
                    "text": [
                        "intercepto: 8.58610668789809\n",
                        "coeficientes: [ 0.         -0.         -0.         -0.         -0.         -0.\n",
                        " -0.         -0.         -0.         -0.         -0.         -0.\n",
                        " -0.          0.         -0.          0.         -0.          0.\n",
                        " -0.          0.         -0.         -0.         -0.          0.\n",
                        " -0.          0.         -0.         -0.         -0.         -0.\n",
                        " -0.         -0.         -0.         -0.         -0.         -0.\n",
                        "  0.         -0.         -0.         -0.         -0.         -0.\n",
                        " -0.         -0.         -0.          0.          0.         -0.\n",
                        " -0.         -0.          0.          0.          0.         -0.\n",
                        " -0.         -0.         -0.         -0.         -0.          0.\n",
                        " -0.         -0.         -0.         -0.         -0.         -0.\n",
                        " -0.          0.         -0.         -0.         -0.         -0.\n",
                        " -0.         -0.         -0.         -0.         -0.          0.\n",
                        " -0.          0.          0.          0.         -0.          0.\n",
                        "  0.          0.         -0.          0.          0.          0.\n",
                        " -0.          0.34556923  0.40145977 -0.          0.          0.\n",
                        "  0.         -0.          0.          0.          0.         -0.\n",
                        "  0.          0.          0.         -0.          0.        ]\n"
                    ]
                }
            ],
            "source": [
                "#ahora haremos lo mismo con el modelo lasso \n",
                "modelo_lasso=Lasso()\n",
                "modelo_lasso.fit(X_train_esc,y_train)\n",
                "print(f'intercepto: {modelo_lasso.intercept_}')\n",
                "print(f'coeficientes: {modelo_lasso.coef_}')\n"
            ]
        },
        {
            "cell_type": "markdown",
            "metadata": {},
            "source": [
                "el modelo lasso utiliza 2 parametros para sus predicciones, conoceremos la calidad de este modelo"
            ]
        },
        {
            "cell_type": "code",
            "execution_count": 12,
            "metadata": {},
            "outputs": [
                {
                    "name": "stdout",
                    "output_type": "stream",
                    "text": [
                        "RMSE: 1.0319269264898887\n",
                        "R2: 0.6699308843438134\n"
                    ]
                }
            ],
            "source": [
                "y_pred_lasso=modelo_lasso.predict(X_test_esc)\n",
                "print(f'RMSE: {root_mean_squared_error(y_test,y_pred_lasso)}')\n",
                "print(f'R2: {r2_score(y_test,y_pred_lasso)}')"
            ]
        },
        {
            "cell_type": "markdown",
            "metadata": {},
            "source": [
                "en este caso antes de agregar los parametros el modelo es malo,ahora pondremos los parametros que concideramos mejores para que el modelo pueda hacer una mejor prediccion."
            ]
        },
        {
            "cell_type": "code",
            "execution_count": 13,
            "metadata": {},
            "outputs": [
                {
                    "name": "stdout",
                    "output_type": "stream",
                    "text": [
                        "intercepto: 8.58610668789809\n",
                        "coeficientes: [ 0.         -0.         -0.         -0.         -0.         -0.\n",
                        " -0.         -0.         -0.         -0.         -0.         -0.\n",
                        " -0.          0.         -0.          0.         -0.          0.\n",
                        " -0.          0.         -0.         -0.         -0.          0.\n",
                        " -0.          0.         -0.         -0.         -0.         -0.\n",
                        " -0.         -0.         -0.         -0.         -0.         -0.\n",
                        "  0.         -0.         -0.         -0.         -0.         -0.\n",
                        " -0.         -0.         -0.          0.          0.         -0.\n",
                        " -0.         -0.          0.          0.          0.         -0.\n",
                        " -0.         -0.         -0.         -0.         -0.          0.\n",
                        " -0.         -0.         -0.         -0.         -0.         -0.\n",
                        " -0.          0.         -0.         -0.         -0.         -0.\n",
                        " -0.         -0.         -0.         -0.         -0.          0.\n",
                        " -0.          0.          0.          0.         -0.          0.\n",
                        "  0.          0.         -0.          0.          0.          0.\n",
                        " -0.          0.8001231   0.85069613 -0.          0.          0.\n",
                        "  0.         -0.          0.          0.          0.         -0.\n",
                        "  0.          0.          0.         -0.          0.        ]\n"
                    ]
                }
            ],
            "source": [
                "modelo_lasso=Lasso(alpha=0.1,max_iter=1000000)\n",
                "modelo_lasso.fit(X_train_esc,y_train)\n",
                "print(f'intercepto: {modelo_lasso.intercept_}')\n",
                "print(f'coeficientes: {modelo_lasso.coef_}')"
            ]
        },
        {
            "cell_type": "code",
            "execution_count": null,
            "metadata": {},
            "outputs": [
                {
                    "name": "stdout",
                    "output_type": "stream",
                    "text": [
                        "RMSE: 0.11000147707201467\n",
                        "R2: 0.9962493716369202\n"
                    ]
                }
            ],
            "source": [
                "y_pred_lasso=modelo_lasso.predict(X_test_esc)\n",
                "print(f'RMSE: {root_mean_squared_error(y_test,y_pred_lasso)}')\n",
                "print(f'R2: {r2_score(y_test,y_pred_lasso)}')"
            ]
        },
        {
            "cell_type": "markdown",
            "metadata": {},
            "source": [
                "el modelo mejora notoriamente cuando se le colocan los parametros,ahora obtendremos el nombre de las variables mas importantes para el modelo."
            ]
        },
        {
            "cell_type": "code",
            "execution_count": 15,
            "metadata": {},
            "outputs": [
                {
                    "name": "stdout",
                    "output_type": "stream",
                    "text": [
                        "[91, 92]\n"
                    ]
                },
                {
                    "data": {
                        "text/plain": [
                            "['Heart disease_prevalence', 'Heart disease_Lower 95% CI']"
                        ]
                    },
                    "execution_count": 15,
                    "metadata": {},
                    "output_type": "execute_result"
                }
            ],
            "source": [
                "#obtendremos en que posicion de la lista de coeficientes se encuentran las dos variables  que estan utilizandose\n",
                "contador=0\n",
                "coeficientes=[]\n",
                "for i in modelo_lasso.coef_:\n",
                "    if i > 0:\n",
                "        coeficientes.append(contador)\n",
                "    contador+=1    \n",
                "print(coeficientes)\n",
                "coef=[]\n",
                "for i in coeficientes :\n",
                "    coef.append(df.columns[i])\n",
                "coef"
            ]
        },
        {
            "cell_type": "code",
            "execution_count": 17,
            "metadata": {},
            "outputs": [
                {
                    "name": "stdout",
                    "output_type": "stream",
                    "text": [
                        "[6, 21, 23, 25, 27, 29, 31, 32, 53, 91, 92]\n"
                    ]
                },
                {
                    "data": {
                        "text/plain": [
                            "['20-29',\n",
                            " '% White-alone',\n",
                            " '% Black-alone',\n",
                            " '% NA/AI-alone',\n",
                            " '% Asian-alone',\n",
                            " '% Hawaiian/PI-alone',\n",
                            " '% Two or more races',\n",
                            " 'POP_ESTIMATE_2018',\n",
                            " 'MEDHHINC_2018',\n",
                            " 'Heart disease_prevalence',\n",
                            " 'Heart disease_Lower 95% CI']"
                        ]
                    },
                    "execution_count": 17,
                    "metadata": {},
                    "output_type": "execute_result"
                }
            ],
            "source": [
                "contador=0\n",
                "coeficientes=[]\n",
                "for i in regresion_lineal_model.coef_:\n",
                "    if i > 0.5:\n",
                "        coeficientes.append(contador)\n",
                "    contador+=1    \n",
                "print(coeficientes)\n",
                "coef=[]\n",
                "for i in coeficientes :\n",
                "    coef.append(df.columns[i])\n",
                "coef"
            ]
        },
        {
            "cell_type": "code",
            "execution_count": 18,
            "metadata": {},
            "outputs": [
                {
                    "name": "stdout",
                    "output_type": "stream",
                    "text": [
                        "intercepto: 8.58610668789809\n",
                        "coeficientes: [ 2.68601042e-02  1.12376804e-02 -1.49073325e-02 -2.02189155e-03\n",
                        "  1.31569326e-02  3.42968058e-03  4.28486090e-02 -5.02333104e-03\n",
                        " -7.96393538e-03 -1.92491687e-04 -1.43188439e-03 -5.02878700e-04\n",
                        "  2.06197124e-03 -2.89046821e-04  2.99340822e-02  1.89182452e-03\n",
                        "  2.33421920e-02  2.23646766e-03  4.56303007e-02  3.67982177e-03\n",
                        "  1.31700943e-02 -1.16716787e-04  6.11976205e-03 -8.50291919e-04\n",
                        " -1.03010427e-03  1.57215912e-03  5.25342805e-03  6.66061120e-04\n",
                        " -1.01080947e-03 -2.81153085e-03  4.76095763e-03  2.09509368e-03\n",
                        "  1.12376804e-02 -2.65119300e-03 -5.29311596e-03 -7.63745169e-03\n",
                        "  6.89305477e-03  1.23444183e-02 -2.58726456e-03 -2.23863313e-02\n",
                        "  2.23376758e-02  3.34576918e-03  3.17086805e-02  1.79455518e-02\n",
                        "  2.35030719e-02 -3.97919639e-02 -5.05769840e-02 -3.67028803e-02\n",
                        " -6.76774227e-02 -1.06627853e-03  7.15150033e-03 -1.94414586e-02\n",
                        "  1.67703098e-02 -9.20162074e-04  4.87712604e-03 -6.44063203e-03\n",
                        " -9.02059480e-03 -9.63786055e-03  5.40584421e-03 -2.04990116e-04\n",
                        " -9.20162071e-04  3.24184642e-03 -7.03063615e-03  2.68908364e-03\n",
                        " -2.26929011e-02  2.27834952e-02  1.91408034e-02 -1.74395418e-02\n",
                        "  3.96619583e-03  1.22059445e-03 -4.83877575e-04  1.18372875e-03\n",
                        " -1.84572832e-03 -1.16430786e-02  1.03238136e-03 -7.37949867e-02\n",
                        " -1.00419919e-01 -6.40478616e-04  1.35740826e-03 -5.39226943e-02\n",
                        "  2.68896242e-02  4.78854803e-04 -3.07971816e-02  1.29249004e-01\n",
                        " -5.28637009e-02 -7.47852930e-02 -1.08135825e-02  9.61640367e-03\n",
                        " -4.29736285e-02  3.54235416e-02  1.71331596e-02  8.01114332e-01\n",
                        "  9.28139603e-01 -4.91669944e-02  2.04172354e-01 -9.92565224e-02\n",
                        " -9.84170585e-02  2.24872809e-02  3.91352873e-01 -1.64333957e-01\n",
                        " -2.29131094e-01 -6.31211051e-03  8.71510982e-03  1.85517036e-02\n",
                        " -2.08367521e-02  2.68757442e-03  7.40113897e-04]\n"
                    ]
                }
            ],
            "source": [
                "ridge_model=Ridge(alpha=0.1,max_iter=1000000)\n",
                "ridge_model.fit(X_train_esc,y_train)\n",
                "print(f'intercepto: {ridge_model.intercept_}')\n",
                "print(f'coeficientes: {ridge_model.coef_}')"
            ]
        },
        {
            "cell_type": "code",
            "execution_count": 19,
            "metadata": {},
            "outputs": [
                {
                    "name": "stdout",
                    "output_type": "stream",
                    "text": [
                        "RMSE: 0.040184497169265775\n",
                        "R2: 0.9994994769565592\n"
                    ]
                }
            ],
            "source": [
                "y_pred_ridge=ridge_model.predict(X_test_esc)\n",
                "print(f'RMSE: {root_mean_squared_error(y_test,y_pred_ridge)}')\n",
                "print(f'R2: {r2_score(y_test,y_pred_ridge)}')"
            ]
        },
        {
            "cell_type": "markdown",
            "metadata": {},
            "source": [
                "obtenemos una leve mejora en los resultados, pero con el uso de mas parametros"
            ]
        },
        {
            "cell_type": "code",
            "execution_count": 20,
            "metadata": {},
            "outputs": [
                {
                    "name": "stderr",
                    "output_type": "stream",
                    "text": [
                        "/home/vscode/.local/lib/python3.11/site-packages/sklearn/base.py:1365: UserWarning: With alpha=0, this algorithm does not converge well. You are advised to use the LinearRegression estimator\n",
                        "  return fit_method(estimator, *args, **kwargs)\n",
                        "/home/vscode/.local/lib/python3.11/site-packages/sklearn/linear_model/_coordinate_descent.py:695: UserWarning: Coordinate descent with no regularization may lead to unexpected results and is discouraged.\n",
                        "  model = cd_fast.enet_coordinate_descent(\n",
                        "/home/vscode/.local/lib/python3.11/site-packages/sklearn/linear_model/_coordinate_descent.py:695: ConvergenceWarning: Objective did not converge. You might want to increase the number of iterations, check the scale of the features or consider increasing regularisation. Duality gap: 1.923e+00, tolerance: 7.676e-01\n",
                        "Linear regression models with a zero l1 penalization strength are more efficiently fitted using one of the solvers implemented in sklearn.linear_model.Ridge/RidgeCV instead.\n",
                        "  model = cd_fast.enet_coordinate_descent(\n"
                    ]
                }
            ],
            "source": [
                "#finalmente buscaremos el mejor parametro para ambos modelos, para eso utilizaremos algunos graficos \n",
                "#vamos a hacer un array para cada parametro\n",
                "#alphas:\n",
                "alphas=np.linspace(0,20,50)#haremos 50 puntos a testear\n",
                "#no lo haremos con las iteraciones por el tiempo que tomaria, ademas de que no vale la pena, ya que a mas iteraciones suele mejorar \n",
                "import matplotlib.pyplot as plt\n",
                "import seaborn as sns\n",
                "#vamos a hacer una lista con los parametros obtenidos en los test.\n",
                "r2_lasso=[]\n",
                "rmse_lasso=[]\n",
                "r2_ridge=[]\n",
                "rmse_ridge=[]\n",
                "for i in alphas:\n",
                "    ridge_model=Ridge(alpha=i,max_iter=1000000)\n",
                "    ridge_model.fit(X_train_esc,y_train)\n",
                "    y_pred_ridge=ridge_model.predict(X_test_esc)\n",
                "    r2_ridge.append(r2_score(y_test,y_pred_ridge))\n",
                "    rmse_ridge.append(root_mean_squared_error(y_test,y_pred_ridge))\n",
                "\n",
                "    modelo_lasso=Lasso(alpha=i,max_iter=1000000)\n",
                "    modelo_lasso.fit(X_train_esc,y_train)\n",
                "    y_pred_lasso=modelo_lasso.predict(X_test_esc)\n",
                "    r2_lasso.append(r2_score(y_test,y_pred_lasso))\n",
                "    rmse_lasso.append(root_mean_squared_error(y_test,y_pred_lasso))\n",
                "\n",
                "\n",
                "\n",
                "\n",
                "\n"
            ]
        },
        {
            "cell_type": "code",
            "execution_count": 26,
            "metadata": {},
            "outputs": [
                {
                    "data": {
                        "image/png": "[encoded data removed]",
                        "text/plain": [
                            "<Figure size 640x480 with 1 Axes>"
                        ]
                    },
                    "metadata": {},
                    "output_type": "display_data"
                },
                {
                    "data": {
                        "image/png": "[encoded data removed]",
                        "text/plain": [
                            "<Figure size 640x480 with 1 Axes>"
                        ]
                    },
                    "metadata": {},
                    "output_type": "display_data"
                },
                {
                    "data": {
                        "text/plain": [
                            "<Figure size 640x480 with 0 Axes>"
                        ]
                    },
                    "metadata": {},
                    "output_type": "display_data"
                }
            ],
            "source": [
                "plt.plot(alphas,r2_ridge)\n",
                "plt.title(\"R2_ridge vs alphas\")\n",
                "plt.show()\n",
                "plt.plot(alphas,r2_lasso)\n",
                "plt.title(\"R2_lasso vs alphas\")\n",
                "plt.show()\n",
                "plt.tight_layout()\n"
            ]
        },
        {
            "cell_type": "code",
            "execution_count": 27,
            "metadata": {},
            "outputs": [
                {
                    "data": {
                        "image/png": "[encoded data removed]",
                        "text/plain": [
                            "<Figure size 640x480 with 1 Axes>"
                        ]
                    },
                    "metadata": {},
                    "output_type": "display_data"
                },
                {
                    "data": {
                        "image/png": "[encoded data removed]",
                        "text/plain": [
                            "<Figure size 640x480 with 1 Axes>"
                        ]
                    },
                    "metadata": {},
                    "output_type": "display_data"
                },
                {
                    "data": {
                        "text/plain": [
                            "<Figure size 640x480 with 0 Axes>"
                        ]
                    },
                    "metadata": {},
                    "output_type": "display_data"
                }
            ],
            "source": [
                "plt.plot(alphas,rmse_ridge)\n",
                "plt.title(\"RMSE_ridge vs alphas\")\n",
                "plt.show()\n",
                "plt.plot(alphas,rmse_lasso)\n",
                "plt.title(\"RMSE_lasso vs alphas\")\n",
                "plt.show()\n",
                "plt.tight_layout()"
            ]
        },
        {
            "cell_type": "markdown",
            "metadata": {},
            "source": [
                "finalmente podemos concluir que en ambos casos, un alpha menor nos dara los mejores resultados, ya que el R2 aumentara y el RSME disminuira.\n",
                "obteniendo asi menosres diferencias entre los resultados de test y los predichos, ademas de que el modelo estara describiendo una mayor parte de los datos."
            ]
        }
    ],
    "metadata": {
        "kernelspec": {
            "display_name": "Python 3",
            "language": "python",
            "name": "python3"
        },
        "language_info": {
            "codemirror_mode": {
                "name": "ipython",
                "version": 3
            },
            "file_extension": ".py",
            "mimetype": "text/x-python",
            "name": "python",
            "nbconvert_exporter": "python",
            "pygments_lexer": "ipython3",
            "version": "3.11.4"
        },
        "orig_nbformat": 4
    },
    "nbformat": 4,
    "nbformat_minor": 2
}
